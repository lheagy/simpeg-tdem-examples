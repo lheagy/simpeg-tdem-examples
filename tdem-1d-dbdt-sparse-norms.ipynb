{
 "cells": [
  {
   "cell_type": "markdown",
   "id": "d8c5e79b-7e45-4427-bd70-d664f7e2be29",
   "metadata": {},
   "source": [
    "# 1D time domain EM inversion "
   ]
  },
  {
   "cell_type": "code",
   "execution_count": 1,
   "id": "7a8eacee-691b-4f24-9971-a85640ceddac",
   "metadata": {},
   "outputs": [],
   "source": [
    "import numpy as np\n",
    "import matplotlib.pyplot as plt\n",
    "\n",
    "# SimPEG, discretize/\n",
    "import discretize\n",
    "from discretize import utils\n",
    "from SimPEG.electromagnetics import time_domain as tdem\n",
    "from SimPEG.electromagnetics import resistivity as dc\n",
    "from SimPEG.utils import mkvc, plot_1d_layer_model\n",
    "from SimPEG import (\n",
    "    maps,\n",
    "    data,\n",
    "    data_misfit,\n",
    "    inverse_problem,\n",
    "    regularization,\n",
    "    optimization,\n",
    "    directives,\n",
    "    inversion,\n",
    "    utils,\n",
    ")\n",
    "\n",
    "from pymatsolver import Pardiso"
   ]
  },
  {
   "cell_type": "markdown",
   "id": "145e7cc6-73da-40fc-9b25-81e3e31e6310",
   "metadata": {},
   "source": [
    "## create a model "
   ]
  },
  {
   "cell_type": "code",
   "execution_count": 2,
   "id": "6a1c6784-6b2c-42cc-bbd4-31d47126e8f0",
   "metadata": {},
   "outputs": [],
   "source": [
    "rho_back = 100\n",
    "sigma_layer = 0.1\n",
    "layer_depth = np.r_[120, 160]\n",
    "\n",
    "sigma_true = np.r_[1./rho_back, sigma_layer, 1./rho_back]\n",
    "m_true = np.log(sigma_true)\n",
    "layer_thicknesses_true = np.r_[layer_depth[0], np.diff(layer_depth)]"
   ]
  },
  {
   "cell_type": "code",
   "execution_count": 5,
   "id": "c313ff86-3cf4-4f1e-85c8-f24a0d999939",
   "metadata": {},
   "outputs": [
    {
     "data": {
      "text/plain": [
       "array([0.01, 0.1 , 0.01])"
      ]
     },
     "execution_count": 5,
     "metadata": {},
     "output_type": "execute_result"
    }
   ],
   "source": [
    "sigma_true"
   ]
  },
  {
   "cell_type": "code",
   "execution_count": 4,
   "id": "837ba129-2c10-45b0-9059-f09f248e915a",
   "metadata": {},
   "outputs": [
    {
     "data": {
      "text/plain": [
       "(400.0, 0.0)"
      ]
     },
     "execution_count": 4,
     "metadata": {},
     "output_type": "execute_result"
    },
    {
     "data": {
      "image/png": "[encoded data removed]",
      "text/plain": [
       "<Figure size 200x400 with 1 Axes>"
      ]
     },
     "metadata": {},
     "output_type": "display_data"
    }
   ],
   "source": [
    "fig, ax = plt.subplots(1,1, figsize=(2, 4))\n",
    "plot_1d_layer_model(layer_thicknesses_true, sigma_true, ax=ax, label=\"True\")\n",
    "ax.grid()\n",
    "ax.set_ylim(np.r_[400, 0])"
   ]
  },
  {
   "cell_type": "markdown",
   "id": "12014e5d-8e59-4df6-a3a3-1e45eed65413",
   "metadata": {},
   "source": [
    "## set up a survey"
   ]
  },
  {
   "cell_type": "code",
   "execution_count": 7,
   "id": "3b170497-7227-464d-8388-324d9fb5fdd3",
   "metadata": {},
   "outputs": [
    {
     "name": "stdout",
     "output_type": "stream",
     "text": [
      "times: 1e-01ms, 1e+01ms\n"
     ]
    }
   ],
   "source": [
    "tx_radius = 10\n",
    "rx_times = np.logspace(-4, -2, 20)\n",
    "\n",
    "print(f\"times: {rx_times.min()*1e3:1.0e}ms, {rx_times.max()*1e3:1.0e}ms\")"
   ]
  },
  {
   "cell_type": "code",
   "execution_count": 8,
   "id": "c7eb282b-ef62-4f18-b114-11ab7c3fdc8f",
   "metadata": {},
   "outputs": [],
   "source": [
    "rx_z = tdem.receivers.PointMagneticFluxTimeDerivative(\n",
    "    np.r_[0, 0, 0], times=rx_times, orientation=\"z\"\n",
    ")\n",
    "\n",
    "src = tdem.sources.CircularLoop(\n",
    "    location=np.r_[0, 0, 0], radius=tx_radius, \n",
    "    receiver_list=[rx_z], #waveform=waveform\n",
    ")\n",
    "\n",
    "survey = tdem.Survey([src])"
   ]
  },
  {
   "cell_type": "markdown",
   "id": "094d2dd6-c910-460c-9853-29d8277f1df3",
   "metadata": {},
   "source": [
    "## create synthetic data"
   ]
  },
  {
   "cell_type": "code",
   "execution_count": 10,
   "id": "a9dd985f-0c81-42f7-b0ea-0d528f3ed97d",
   "metadata": {},
   "outputs": [],
   "source": [
    "sim1d_true = tdem.Simulation1DLayered(\n",
    "    survey=survey, \n",
    "    thicknesses=layer_thicknesses_true, \n",
    "    sigmaMap=maps.ExpMap(nP=3)\n",
    ")\n",
    "dobs = sim1d_true.dpred(m_true)"
   ]
  },
  {
   "cell_type": "code",
   "execution_count": 11,
   "id": "ffe218d2-6069-4819-ad17-36bcacbb17af",
   "metadata": {},
   "outputs": [
    {
     "data": {
      "text/plain": [
       "Text(0, 0.5, 'db/dt (V)')"
      ]
     },
     "execution_count": 11,
     "metadata": {},
     "output_type": "execute_result"
    },
    {
     "data": {
      "image/png": "[encoded data removed]",
      "text/plain": [
       "<Figure size 400x300 with 1 Axes>"
      ]
     },
     "metadata": {},
     "output_type": "display_data"
    }
   ],
   "source": [
    "fig, ax = plt.subplots(1, 1, figsize=(4, 3))\n",
    "                       \n",
    "ax.loglog(rx_times*1e3, -dobs, \"-o\")\n",
    "ax.grid()\n",
    "ax.set_xlabel(\"time (ms)\")\n",
    "ax.set_ylabel(\"db/dt (V)\")"
   ]
  },
  {
   "cell_type": "markdown",
   "id": "8ca2990c-b608-43e2-a91a-54a8f721c3ee",
   "metadata": {},
   "source": [
    "## set up the inversion"
   ]
  },
  {
   "cell_type": "code",
   "execution_count": 14,
   "id": "230827d3-b2e8-402b-964b-b615b28c4111",
   "metadata": {},
   "outputs": [
    {
     "data": {
      "text/plain": [
       "array([-4.19775479e-08, -2.28768285e-08, -1.34206897e-08, -8.58307648e-09,\n",
       "       -5.84240195e-09, -4.05869298e-09, -2.78115802e-09, -1.84546850e-09,\n",
       "       -1.17746790e-09, -7.21488363e-10, -4.25219358e-10, -2.41756370e-10,\n",
       "       -1.33102329e-10, -7.12784054e-11, -3.73058044e-11, -1.91772355e-11,\n",
       "       -9.72971300e-12, -4.89448216e-12, -2.45125561e-12, -1.22645642e-12])"
      ]
     },
     "execution_count": 14,
     "metadata": {},
     "output_type": "execute_result"
    }
   ],
   "source": [
    "data_invert = data.Data(survey, dobs=dobs, relative_error=0.05)\n",
    "data_invert[src, rx_z]"
   ]
  },
  {
   "cell_type": "markdown",
   "id": "2ed676be-7937-475c-8b56-5698b41f98b0",
   "metadata": {},
   "source": [
    "### create inversion mesh & simulation"
   ]
  },
  {
   "cell_type": "code",
   "execution_count": 17,
   "id": "f7558340-da72-4040-9080-83a75e62ed90",
   "metadata": {},
   "outputs": [],
   "source": [
    "cs_invert = 5\n",
    "inv_thicknesses = np.hstack([[cs_invert]*int(300/cs_invert), cs_invert * np.logspace(0, 1.5, 20)])"
   ]
  },
  {
   "cell_type": "code",
   "execution_count": 18,
   "id": "3f08dc44-3962-49e5-968d-f6bcba53fd28",
   "metadata": {},
   "outputs": [
    {
     "data": {
      "text/html": [
       "<table>\n",
       "  <tr>\n",
       "    <td style='font-weight: bold; font-size: 1.2em; text-align: center;' colspan='3'>TensorMesh</td>\n",
       "    <td style='font-size: 1.2em; text-align: center;'colspan='4'>81 cells</td>\n",
       "  </tr>\n",
       "  <tr>\n",
       "    <th></th>\n",
       "    <th></th>\n",
       "    <th colspan='2' style='padding: 5px 20px 5px 20px;'>MESH EXTENT</th>\n",
       "    <th colspan='2' style='padding: 5px 20px 5px 20px;'>CELL WIDTH</th>\n",
       "    <th style='padding: 5px 20px 5px 20px;'>FACTOR</th>\n",
       "  </tr>\n",
       "  <tr>\n",
       "    <th style='padding: 5px 20px 5px 20px;'>dir</th>\n",
       "    <th style='padding: 5px 20px 5px 20px;'>nC</th>\n",
       "    <th style='padding: 5px 20px 5px 20px;'>min</th>\n",
       "    <th style='padding: 5px 20px 5px 20px;'>max</th>\n",
       "    <th style='padding: 5px 20px 5px 20px;'>min</th>\n",
       "    <th style='padding: 5px 20px 5px 20px;'>max</th>\n",
       "    <th style='padding: 5px 20px 5px 20px;'>max</th>\n",
       "  </tr>\n",
       "  <tr>\n",
       "    <td style='padding: 5px 20px 5px 20px;'>x</td>\n",
       "    <td style='padding: 5px 20px 5px 20px;'>81</td>\n",
       "    <td style='padding: 5px 20px 5px 20px;'>0.00</td>\n",
       "    <td style='padding: 5px 20px 5px 20px;'>1,384.28</td>\n",
       "    <td style='padding: 5px 20px 5px 20px;'>5.00</td>\n",
       "    <td style='padding: 5px 20px 5px 20px;'>158.11</td>\n",
       "    <td style='padding: 5px 20px 5px 20px;'>1.20</td>\n",
       "  </tr>\n",
       "</table>\n"
      ],
      "text/plain": [
       "\n",
       "  TensorMesh: 81 cells\n",
       "\n",
       "                      MESH EXTENT             CELL WIDTH      FACTOR\n",
       "  dir    nC        min           max         min       max      max\n",
       "  ---   ---  ---------------------------  ------------------  ------\n",
       "   x     81          0.00      1,384.28      5.00    158.11    1.20\n"
      ]
     },
     "execution_count": 18,
     "metadata": {},
     "output_type": "execute_result"
    }
   ],
   "source": [
    "mesh = discretize.TensorMesh([(np.r_[inv_thicknesses, inv_thicknesses[-1]])], origin=\"0\")\n",
    "mesh"
   ]
  },
  {
   "cell_type": "code",
   "execution_count": 19,
   "id": "354b59de-611d-4d66-b8cc-aafe73ca5140",
   "metadata": {},
   "outputs": [],
   "source": [
    "sim1d = tdem.Simulation1DLayered(\n",
    "    survey=survey, thicknesses=inv_thicknesses, sigmaMap=maps.ExpMap(mesh)\n",
    ")"
   ]
  },
  {
   "cell_type": "code",
   "execution_count": 20,
   "id": "664969af-c5cf-4886-b548-9ed84e29e52a",
   "metadata": {},
   "outputs": [],
   "source": [
    "def setup_inversion(norms=[0, 0]): \n",
    "    dmis = data_misfit.L2DataMisfit(simulation=sim1d, data=data_invert)\n",
    "    reg = regularization.Sparse(\n",
    "        mesh, alpha_s=0.1, alpha_x=1.0, \n",
    "        reference_model=np.log(1./rho_back),\n",
    "        norms=norms\n",
    "    )\n",
    "\n",
    "    opt = optimization.InexactGaussNewton(maxIter=30)\n",
    "    inv_prob = inverse_problem.BaseInvProblem(dmis, reg, opt)\n",
    "    \n",
    "    # Defining a starting value for the trade-off parameter (beta) between the data\n",
    "    # misfit and the regularization.\n",
    "    starting_beta = directives.BetaEstimate_ByEig(beta0_ratio=1e1)\n",
    "\n",
    "    # Options for outputting recovered models and predicted data for each beta.\n",
    "    save_iteration = directives.SaveOutputEveryIteration(save_txt=False)\n",
    "\n",
    "    # Directives for the IRLS\n",
    "    update_IRLS = directives.Update_IRLS(\n",
    "        max_irls_iterations=10, minGNiter=1, coolEpsFact=1.5, update_beta=True\n",
    "    )\n",
    "\n",
    "    # Updating the preconditionner if it is model dependent.\n",
    "    update_jacobi = directives.UpdatePreconditioner()\n",
    "\n",
    "    # Add sensitivity weights\n",
    "    sensitivity_weights = directives.UpdateSensitivityWeights()\n",
    "\n",
    "    # The directives are defined as a list.\n",
    "    directives_list = [\n",
    "        sensitivity_weights,\n",
    "        starting_beta,\n",
    "        save_iteration,\n",
    "        update_IRLS,\n",
    "        update_jacobi,\n",
    "    ]\n",
    "    \n",
    "    # Here we combine the inverse problem and the set of directives\n",
    "    inv = inversion.BaseInversion(inv_prob, directives_list)\n",
    "    \n",
    "    return inv"
   ]
  },
  {
   "cell_type": "code",
   "execution_count": 21,
   "id": "0d4e3831-76f9-467a-a768-e4b19f33dbbc",
   "metadata": {
    "tags": []
   },
   "outputs": [
    {
     "name": "stdout",
     "output_type": "stream",
     "text": [
      "\n",
      "                        SimPEG.InvProblem is setting bfgsH0 to the inverse of the eval2Deriv.\n",
      "                        ***Done using same Solver, and solver_opts as the Simulation1DLayered problem***\n",
      "                        \n",
      "model has any nan: 0\n",
      "============================ Inexact Gauss Newton ============================\n",
      "  #     beta     phi_d     phi_m       f      |proj(x-g)-x|  LS    Comment   \n",
      "-----------------------------------------------------------------------------\n",
      "x0 has any nan: 0\n",
      "   0  3.05e+03  1.34e+03  0.00e+00  1.34e+03    2.15e+02      0              \n",
      "   1  1.52e+03  1.17e+03  2.73e-02  1.21e+03    1.07e+02      0              \n",
      "   2  7.62e+02  1.01e+03  1.10e-01  1.10e+03    1.05e+02      0   Skip BFGS  \n",
      "   3  3.81e+02  7.70e+02  4.08e-01  9.26e+02    1.03e+02      0              \n",
      "   4  1.91e+02  4.81e+02  1.26e+00  7.21e+02    9.22e+01      0              \n",
      "   5  9.53e+01  2.57e+02  2.85e+00  5.28e+02    7.44e+01      0   Skip BFGS  \n",
      "   6  4.76e+01  1.26e+02  5.18e+00  3.73e+02    5.36e+01      0   Skip BFGS  \n",
      "   7  2.38e+01  6.17e+01  7.76e+00  2.46e+02    4.01e+01      0   Skip BFGS  \n",
      "   8  1.19e+01  2.95e+01  8.30e+00  1.28e+02    3.47e+01      0   Skip BFGS  \n",
      "   9  5.96e+00  1.06e+01  8.75e+00  6.27e+01    1.10e+01      0   Skip BFGS  \n",
      "Reached starting chifact with l2-norm regularization: Start IRLS steps...\n",
      "irls_threshold 1.93717660734892\n",
      "  10  2.98e+00  3.93e+00  8.94e+00  3.05e+01    1.08e+01      0   Skip BFGS  \n",
      "  11  1.28e+01  1.52e+00  8.97e+00  1.16e+02    3.79e+01      0   Skip BFGS  \n",
      "  12  2.14e+01  7.36e+00  8.32e+00  1.86e+02    5.20e+01      0              \n",
      "  13  1.57e+01  1.40e+01  7.89e+00  1.38e+02    9.44e+00      0              \n",
      "  14  1.57e+01  1.08e+01  8.29e+00  1.41e+02    5.34e+00      0              \n",
      "  15  1.27e+01  1.15e+01  8.25e+00  1.16e+02    7.74e+00      0              \n",
      "  16  1.97e+01  9.00e+00  8.39e+00  1.74e+02    1.79e+01      0              \n",
      "  17  1.44e+01  1.41e+01  8.12e+00  1.31e+02    1.01e+01      0              \n",
      "  18  1.44e+01  1.07e+01  8.31e+00  1.30e+02    4.95e-01      0              \n",
      "Minimum decrease in regularization.End of IRLS\n",
      "------------------------- STOP! -------------------------\n",
      "1 : |fc-fOld| = 0.0000e+00 <= tolF*(1+|f0|) = 1.3362e+02\n",
      "1 : |xc-x_last| = 1.0558e-01 <= tolX*(1+|x0|) = 4.2447e+00\n",
      "0 : |proj(x-g)-x|    = 4.9477e-01 <= tolG          = 1.0000e-01\n",
      "0 : |proj(x-g)-x|    = 4.9477e-01 <= 1e3*eps       = 1.0000e-02\n",
      "0 : maxIter   =      30    <= iter          =     19\n",
      "------------------------- DONE! -------------------------\n"
     ]
    }
   ],
   "source": [
    "invl2 = setup_inversion([2, 2])\n",
    "starting_model = np.log(1./rho_back)*np.ones(mesh.n_cells)\n",
    "\n",
    "recovered_model_l2 = invl2.run(starting_model)"
   ]
  },
  {
   "cell_type": "code",
   "execution_count": 22,
   "id": "a25544a3-8165-419e-a555-c57b2b58acd5",
   "metadata": {
    "tags": []
   },
   "outputs": [
    {
     "name": "stdout",
     "output_type": "stream",
     "text": [
      "\n",
      "                        SimPEG.InvProblem is setting bfgsH0 to the inverse of the eval2Deriv.\n",
      "                        ***Done using same Solver, and solver_opts as the Simulation1DLayered problem***\n",
      "                        \n",
      "model has any nan: 0\n",
      "============================ Inexact Gauss Newton ============================\n",
      "  #     beta     phi_d     phi_m       f      |proj(x-g)-x|  LS    Comment   \n",
      "-----------------------------------------------------------------------------\n",
      "x0 has any nan: 0\n",
      "   0  2.58e+03  1.34e+03  0.00e+00  1.34e+03    2.15e+02      0              \n",
      "   1  1.29e+03  1.23e+03  1.51e-02  1.25e+03    1.39e+02      0              \n",
      "   2  6.45e+02  9.54e+02  1.63e-01  1.06e+03    1.03e+02      0   Skip BFGS  \n",
      "   3  3.23e+02  7.03e+02  5.42e-01  8.78e+02    1.02e+02      0   Skip BFGS  \n",
      "   4  1.61e+02  4.16e+02  1.57e+00  6.69e+02    8.81e+01      0              \n",
      "   5  8.07e+01  2.15e+02  3.39e+00  4.88e+02    6.74e+01      0   Skip BFGS  \n",
      "   6  4.03e+01  1.07e+02  5.77e+00  3.40e+02    5.08e+01      0   Skip BFGS  \n",
      "   7  2.02e+01  5.17e+01  7.90e+00  2.11e+02    3.99e+01      0   Skip BFGS  \n",
      "   8  1.01e+01  2.31e+01  8.47e+00  1.08e+02    2.82e+01      0   Skip BFGS  \n",
      "Reached starting chifact with l2-norm regularization: Start IRLS steps...\n",
      "irls_threshold 1.7977430435523072\n",
      "   9  5.04e+00  8.77e+00  9.80e+00  5.82e+01    8.03e+00      0   Skip BFGS  \n",
      "  10  1.20e+01  3.61e+00  9.99e+00  1.24e+02    5.46e+01      0              \n",
      "  11  2.90e+01  3.54e+00  9.89e+00  2.90e+02    5.61e+01      0              \n",
      "  12  1.97e+01  1.65e+01  9.14e+00  1.96e+02    1.31e+01      0              \n",
      "  13  1.97e+01  9.22e+00  9.14e+00  1.89e+02    4.90e+00      0              \n",
      "  14  3.34e+01  7.19e+00  8.98e+00  3.07e+02    3.99e+01      0   Skip BFGS  \n",
      "  15  2.35e+01  1.51e+01  8.68e+00  2.19e+02    2.48e+01      0              \n",
      "  16  3.79e+01  8.19e+00  8.87e+00  3.45e+02    3.94e+01      0              \n",
      "  17  2.55e+01  1.68e+01  8.64e+00  2.37e+02    3.12e+01      0              \n",
      "  18  4.06e+01  8.46e+00  8.93e+00  3.71e+02    4.23e+01      0              \n",
      "Reach maximum number of IRLS cycles: 10\n",
      "------------------------- STOP! -------------------------\n",
      "1 : |fc-fOld| = 0.0000e+00 <= tolF*(1+|f0|) = 1.3362e+02\n",
      "1 : |xc-x_last| = 1.5411e-01 <= tolX*(1+|x0|) = 4.2447e+00\n",
      "0 : |proj(x-g)-x|    = 4.2295e+01 <= tolG          = 1.0000e-01\n",
      "0 : |proj(x-g)-x|    = 4.2295e+01 <= 1e3*eps       = 1.0000e-02\n",
      "0 : maxIter   =      30    <= iter          =     19\n",
      "------------------------- DONE! -------------------------\n"
     ]
    }
   ],
   "source": [
    "invl1 = setup_inversion([1, 1])\n",
    "recovered_model_l1 = invl1.run(starting_model)"
   ]
  },
  {
   "cell_type": "code",
   "execution_count": 23,
   "id": "eb358fe2-1520-4df8-bf95-aa40d224b7c0",
   "metadata": {
    "tags": []
   },
   "outputs": [
    {
     "name": "stdout",
     "output_type": "stream",
     "text": [
      "\n",
      "                        SimPEG.InvProblem is setting bfgsH0 to the inverse of the eval2Deriv.\n",
      "                        ***Done using same Solver, and solver_opts as the Simulation1DLayered problem***\n",
      "                        \n",
      "model has any nan: 0\n",
      "============================ Inexact Gauss Newton ============================\n",
      "  #     beta     phi_d     phi_m       f      |proj(x-g)-x|  LS    Comment   \n",
      "-----------------------------------------------------------------------------\n",
      "x0 has any nan: 0\n",
      "   0  2.65e+03  1.34e+03  0.00e+00  1.34e+03    2.15e+02      0              \n",
      "   1  1.33e+03  1.17e+03  3.42e-02  1.22e+03    1.11e+02      0              \n",
      "   2  6.63e+02  9.66e+02  1.51e-01  1.07e+03    1.03e+02      0   Skip BFGS  \n",
      "   3  3.32e+02  7.14e+02  5.18e-01  8.86e+02    1.02e+02      0   Skip BFGS  \n",
      "   4  1.66e+02  4.26e+02  1.51e+00  6.77e+02    8.88e+01      0              \n",
      "   5  8.29e+01  2.21e+02  3.31e+00  4.95e+02    6.82e+01      0   Skip BFGS  \n",
      "   6  4.14e+01  1.10e+02  5.67e+00  3.45e+02    5.14e+01      0   Skip BFGS  \n",
      "   7  2.07e+01  5.32e+01  7.88e+00  2.16e+02    4.00e+01      0   Skip BFGS  \n",
      "   8  1.04e+01  2.40e+01  8.44e+00  1.11e+02    2.92e+01      0   Skip BFGS  \n",
      "Reached starting chifact with l2-norm regularization: Start IRLS steps...\n",
      "irls_threshold 1.7941647889324237\n",
      "   9  5.18e+00  9.03e+00  1.02e+01  6.18e+01    9.59e+00      0   Skip BFGS  \n",
      "  10  9.34e+00  6.23e+00  7.62e+00  7.74e+01    7.28e+01      0              \n",
      "  11  2.87e+01  2.41e+00  5.62e+00  1.64e+02    2.97e+01      0              \n",
      "  12  1.17e+02  1.63e+00  3.36e+00  3.94e+02    1.29e+02      0              \n",
      "  13  1.17e+02  1.10e+01  2.09e+00  2.55e+02    3.54e+01      0              \n",
      "  14  2.28e+02  5.26e+00  1.39e+00  3.22e+02    5.65e+01      0   Skip BFGS  \n",
      "  15  2.28e+02  9.37e+00  9.59e-01  2.28e+02    3.93e+01      0              \n",
      "  16  4.95e+02  4.27e+00  6.83e-01  3.42e+02    8.96e+01      0              \n",
      "  17  4.95e+02  9.84e+00  4.62e-01  2.39e+02    5.76e+01      0              \n",
      "  18  9.55e+02  5.37e+00  3.15e-01  3.06e+02    6.63e+01      0              \n",
      "Reach maximum number of IRLS cycles: 10\n",
      "------------------------- STOP! -------------------------\n",
      "1 : |fc-fOld| = 0.0000e+00 <= tolF*(1+|f0|) = 1.3362e+02\n",
      "1 : |xc-x_last| = 2.0999e-01 <= tolX*(1+|x0|) = 4.2447e+00\n",
      "0 : |proj(x-g)-x|    = 6.6333e+01 <= tolG          = 1.0000e-01\n",
      "0 : |proj(x-g)-x|    = 6.6333e+01 <= 1e3*eps       = 1.0000e-02\n",
      "0 : maxIter   =      30    <= iter          =     19\n",
      "------------------------- DONE! -------------------------\n"
     ]
    }
   ],
   "source": [
    "invl0 = setup_inversion([0, 0])\n",
    "recovered_model_l0 = invl0.run(starting_model)"
   ]
  },
  {
   "cell_type": "code",
   "execution_count": 24,
   "id": "429e895c-fa08-4834-b1be-e2aa3f3eb113",
   "metadata": {},
   "outputs": [
    {
     "data": {
      "text/plain": [
       "Text(0, 0.5, 'db/dt')"
      ]
     },
     "execution_count": 24,
     "metadata": {},
     "output_type": "execute_result"
    },
    {
     "data": {
      "image/png": "[encoded data removed]",
      "text/plain": [
       "<Figure size 400x300 with 1 Axes>"
      ]
     },
     "metadata": {},
     "output_type": "display_data"
    }
   ],
   "source": [
    "fig, ax = plt.subplots(1, 1, figsize=(4, 3))\n",
    "\n",
    "ax.loglog(rx_times*1e3, -dobs, \"ko\", label=\"dobs\", ms=4)\n",
    "ax.loglog(rx_times*1e3, -sim1d.dpred(recovered_model_l2), label=\"L2\")\n",
    "ax.loglog(rx_times*1e3, -sim1d.dpred(recovered_model_l1), label=\"L1\")\n",
    "ax.loglog(rx_times*1e3, -sim1d.dpred(recovered_model_l0), label=\"L0\")\n",
    "\n",
    "ax.legend()\n",
    "ax.grid(\"both\", alpha=0.7)\n",
    "ax.set_xlabel(\"time (ms)\")\n",
    "ax.set_ylabel(\"db/dt\")"
   ]
  },
  {
   "cell_type": "code",
   "execution_count": 25,
   "id": "52a333a8-1373-4c5c-9191-cf65dd4063e6",
   "metadata": {},
   "outputs": [
    {
     "data": {
      "text/plain": [
       "Text(0.5, 0, 'conductivity (S/m)')"
      ]
     },
     "execution_count": 25,
     "metadata": {},
     "output_type": "execute_result"
    },
    {
     "data": {
      "image/png": "[encoded data removed]",
      "text/plain": [
       "<Figure size 300x500 with 1 Axes>"
      ]
     },
     "metadata": {},
     "output_type": "display_data"
    }
   ],
   "source": [
    "fig, ax = plt.subplots(1, 1, figsize=(3, 5))\n",
    "\n",
    "plot_1d_layer_model(sim1d_true.thicknesses, np.exp(m_true), ax=ax, color=\"k\", label=\"True\")\n",
    "plot_1d_layer_model(mesh.h[0], np.exp(recovered_model_l2), ax=ax, label=\"L2\")\n",
    "plot_1d_layer_model(mesh.h[0], np.exp(recovered_model_l1), ax=ax, label=\"L1\")\n",
    "plot_1d_layer_model(mesh.h[0], np.exp(recovered_model_l0), ax=ax, label=\"L0\")\n",
    "\n",
    "ax.set_ylim([450, 0])\n",
    "ax.set_xlim([1e-3, 2e-1])\n",
    "ax.grid(\"both\", alpha=0.7)\n",
    "ax.legend()\n",
    "\n",
    "ax.set_xlabel(\"conductivity (S/m)\")"
   ]
  },
  {
   "cell_type": "code",
   "execution_count": null,
   "id": "9abe08b5-4df1-4903-9a39-c25627f36b73",
   "metadata": {},
   "outputs": [],
   "source": []
  }
 ],
 "metadata": {
  "kernelspec": {
   "display_name": "Python 3 (ipykernel)",
   "language": "python",
   "name": "python3"
  },
  "language_info": {
   "codemirror_mode": {
    "name": "ipython",
    "version": 3
   },
   "file_extension": ".py",
   "mimetype": "text/x-python",
   "name": "python",
   "nbconvert_exporter": "python",
   "pygments_lexer": "ipython3",
   "version": "3.10.8"
  }
 },
 "nbformat": 4,
 "nbformat_minor": 5
}
