{
 "cells": [
  {
   "cell_type": "markdown",
   "id": "d8c5e79b-7e45-4427-bd70-d664f7e2be29",
   "metadata": {},
   "source": [
    "# 1D time domain EM inversion "
   ]
  },
  {
   "cell_type": "code",
   "execution_count": 1,
   "id": "7a8eacee-691b-4f24-9971-a85640ceddac",
   "metadata": {},
   "outputs": [],
   "source": [
    "import numpy as np\n",
    "import matplotlib.pyplot as plt\n",
    "\n",
    "# SimPEG, discretize/\n",
    "import discretize\n",
    "from discretize import utils\n",
    "from SimPEG.electromagnetics import time_domain as tdem\n",
    "from SimPEG.electromagnetics import resistivity as dc\n",
    "from SimPEG.utils import mkvc, plot_1d_layer_model\n",
    "from SimPEG import (\n",
    "    maps,\n",
    "    data,\n",
    "    data_misfit,\n",
    "    inverse_problem,\n",
    "    regularization,\n",
    "    optimization,\n",
    "    directives,\n",
    "    inversion,\n",
    "    utils,\n",
    ")\n",
    "\n",
    "from pymatsolver import Pardiso"
   ]
  },
  {
   "cell_type": "markdown",
   "id": "145e7cc6-73da-40fc-9b25-81e3e31e6310",
   "metadata": {},
   "source": [
    "## create a model "
   ]
  },
  {
   "cell_type": "code",
   "execution_count": 2,
   "id": "6a1c6784-6b2c-42cc-bbd4-31d47126e8f0",
   "metadata": {},
   "outputs": [],
   "source": [
    "rho_back = 100\n",
    "sigma_layer = 0.1\n",
    "layer_depth = np.r_[120, 160]\n",
    "\n",
    "sigma_true = np.r_[1./rho_back, sigma_layer, 1./rho_back]\n",
    "m_true = np.log(sigma_true)\n",
    "layer_thicknesses_true = np.r_[layer_depth[0], np.diff(layer_depth)]"
   ]
  },
  {
   "cell_type": "code",
   "execution_count": 3,
   "id": "c313ff86-3cf4-4f1e-85c8-f24a0d999939",
   "metadata": {},
   "outputs": [
    {
     "data": {
      "text/plain": [
       "array([0.01, 0.1 , 0.01])"
      ]
     },
     "execution_count": 3,
     "metadata": {},
     "output_type": "execute_result"
    }
   ],
   "source": [
    "sigma_true"
   ]
  },
  {
   "cell_type": "code",
   "execution_count": 4,
   "id": "837ba129-2c10-45b0-9059-f09f248e915a",
   "metadata": {},
   "outputs": [
    {
     "data": {
      "text/plain": [
       "(400.0, 0.0)"
      ]
     },
     "execution_count": 4,
     "metadata": {},
     "output_type": "execute_result"
    },
    {
     "data": {
      "image/png": "[encoded data removed]",
      "text/plain": [
       "<Figure size 200x400 with 1 Axes>"
      ]
     },
     "metadata": {},
     "output_type": "display_data"
    }
   ],
   "source": [
    "fig, ax = plt.subplots(1,1, figsize=(2, 4))\n",
    "plot_1d_layer_model(layer_thicknesses_true, sigma_true, ax=ax, label=\"True\")\n",
    "ax.grid()\n",
    "ax.set_ylim(np.r_[400, 0])"
   ]
  },
  {
   "cell_type": "markdown",
   "id": "12014e5d-8e59-4df6-a3a3-1e45eed65413",
   "metadata": {},
   "source": [
    "## set up a survey"
   ]
  },
  {
   "cell_type": "code",
   "execution_count": 5,
   "id": "3b170497-7227-464d-8388-324d9fb5fdd3",
   "metadata": {},
   "outputs": [
    {
     "name": "stdout",
     "output_type": "stream",
     "text": [
      "times: 1e-01ms, 1e+01ms\n"
     ]
    }
   ],
   "source": [
    "rx_times = np.logspace(-4, -2, 20)\n",
    "\n",
    "print(f\"times: {rx_times.min()*1e3:1.0e}ms, {rx_times.max()*1e3:1.0e}ms\")"
   ]
  },
  {
   "cell_type": "code",
   "execution_count": 6,
   "id": "c7eb282b-ef62-4f18-b114-11ab7c3fdc8f",
   "metadata": {},
   "outputs": [],
   "source": [
    "rx_z = tdem.receivers.PointMagneticFluxDensity(\n",
    "    np.r_[0, 0, 0], times=rx_times, orientation=\"z\"\n",
    ")\n",
    "\n",
    "half_width = 100\n",
    "src = tdem.sources.LineCurrent(\n",
    "    location = np.array([\n",
    "        [-half_width, -half_width, 0],\n",
    "        [ half_width, -half_width, 0],\n",
    "        [ half_width,  half_width, 0],\n",
    "        [-half_width,  half_width, 0],\n",
    "        [-half_width, -half_width, 0]\n",
    "    ]),\n",
    "    receiver_list = [rx_z]\n",
    ")\n",
    "\n",
    "\n",
    "survey = tdem.Survey([src])"
   ]
  },
  {
   "cell_type": "markdown",
   "id": "094d2dd6-c910-460c-9853-29d8277f1df3",
   "metadata": {},
   "source": [
    "## create synthetic data"
   ]
  },
  {
   "cell_type": "code",
   "execution_count": 7,
   "id": "a9dd985f-0c81-42f7-b0ea-0d528f3ed97d",
   "metadata": {},
   "outputs": [],
   "source": [
    "sim1d_true = tdem.Simulation1DLayered(\n",
    "    survey=survey, \n",
    "    thicknesses=layer_thicknesses_true, \n",
    "    sigmaMap=maps.ExpMap(nP=3)\n",
    ")\n",
    "dobs = sim1d_true.dpred(m_true)"
   ]
  },
  {
   "cell_type": "code",
   "execution_count": 8,
   "id": "ffe218d2-6069-4819-ad17-36bcacbb17af",
   "metadata": {},
   "outputs": [
    {
     "data": {
      "text/plain": [
       "Text(0, 0.5, 'B (nT)')"
      ]
     },
     "execution_count": 8,
     "metadata": {},
     "output_type": "execute_result"
    },
    {
     "data": {
      "image/png": "[encoded data removed]",
      "text/plain": [
       "<Figure size 400x300 with 1 Axes>"
      ]
     },
     "metadata": {},
     "output_type": "display_data"
    }
   ],
   "source": [
    "fig, ax = plt.subplots(1, 1, figsize=(4, 3))\n",
    "                       \n",
    "ax.loglog(rx_times*1e3, dobs*1e9, \"o\")\n",
    "ax.grid()\n",
    "ax.set_xlabel(\"time (ms)\")\n",
    "ax.set_ylabel(\"B (nT)\")"
   ]
  },
  {
   "cell_type": "markdown",
   "id": "8ca2990c-b608-43e2-a91a-54a8f721c3ee",
   "metadata": {},
   "source": [
    "## set up the inversion"
   ]
  },
  {
   "cell_type": "code",
   "execution_count": 9,
   "id": "230827d3-b2e8-402b-964b-b615b28c4111",
   "metadata": {},
   "outputs": [
    {
     "data": {
      "text/plain": [
       "array([4.20757650e-10, 3.41104333e-10, 2.82498877e-10, 2.36130992e-10,\n",
       "       1.96371354e-10, 1.60532445e-10, 1.27985877e-10, 9.91014061e-11,\n",
       "       7.44226855e-11, 5.42275532e-11, 3.84030964e-11, 2.65042447e-11,\n",
       "       1.78881220e-11, 1.18530932e-11, 7.74360047e-12, 5.00867301e-12,\n",
       "       3.22024037e-12, 2.06520512e-12, 1.32499856e-12, 8.52363383e-13])"
      ]
     },
     "execution_count": 9,
     "metadata": {},
     "output_type": "execute_result"
    }
   ],
   "source": [
    "data_invert = data.Data(survey, dobs=dobs, relative_error=0.05)\n",
    "data_invert[src, rx_z]"
   ]
  },
  {
   "cell_type": "markdown",
   "id": "2ed676be-7937-475c-8b56-5698b41f98b0",
   "metadata": {},
   "source": [
    "### create inversion mesh & simulation"
   ]
  },
  {
   "cell_type": "code",
   "execution_count": 10,
   "id": "f7558340-da72-4040-9080-83a75e62ed90",
   "metadata": {},
   "outputs": [],
   "source": [
    "cs_invert = 5\n",
    "inv_thicknesses = np.hstack([[cs_invert]*int(300/cs_invert), cs_invert * np.logspace(0, 1.5, 20)])"
   ]
  },
  {
   "cell_type": "code",
   "execution_count": 11,
   "id": "3f08dc44-3962-49e5-968d-f6bcba53fd28",
   "metadata": {},
   "outputs": [
    {
     "data": {
      "text/html": [
       "<table>\n",
       "  <tr>\n",
       "    <td style='font-weight: bold; font-size: 1.2em; text-align: center;' colspan='3'>TensorMesh</td>\n",
       "    <td style='font-size: 1.2em; text-align: center;'colspan='4'>81 cells</td>\n",
       "  </tr>\n",
       "  <tr>\n",
       "    <th></th>\n",
       "    <th></th>\n",
       "    <th colspan='2' style='padding: 5px 20px 5px 20px;'>MESH EXTENT</th>\n",
       "    <th colspan='2' style='padding: 5px 20px 5px 20px;'>CELL WIDTH</th>\n",
       "    <th style='padding: 5px 20px 5px 20px;'>FACTOR</th>\n",
       "  </tr>\n",
       "  <tr>\n",
       "    <th style='padding: 5px 20px 5px 20px;'>dir</th>\n",
       "    <th style='padding: 5px 20px 5px 20px;'>nC</th>\n",
       "    <th style='padding: 5px 20px 5px 20px;'>min</th>\n",
       "    <th style='padding: 5px 20px 5px 20px;'>max</th>\n",
       "    <th style='padding: 5px 20px 5px 20px;'>min</th>\n",
       "    <th style='padding: 5px 20px 5px 20px;'>max</th>\n",
       "    <th style='padding: 5px 20px 5px 20px;'>max</th>\n",
       "  </tr>\n",
       "  <tr>\n",
       "    <td style='padding: 5px 20px 5px 20px;'>x</td>\n",
       "    <td style='padding: 5px 20px 5px 20px;'>81</td>\n",
       "    <td style='padding: 5px 20px 5px 20px;'>0.00</td>\n",
       "    <td style='padding: 5px 20px 5px 20px;'>1,384.28</td>\n",
       "    <td style='padding: 5px 20px 5px 20px;'>5.00</td>\n",
       "    <td style='padding: 5px 20px 5px 20px;'>158.11</td>\n",
       "    <td style='padding: 5px 20px 5px 20px;'>1.20</td>\n",
       "  </tr>\n",
       "</table>\n"
      ],
      "text/plain": [
       "\n",
       "  TensorMesh: 81 cells\n",
       "\n",
       "                      MESH EXTENT             CELL WIDTH      FACTOR\n",
       "  dir    nC        min           max         min       max      max\n",
       "  ---   ---  ---------------------------  ------------------  ------\n",
       "   x     81          0.00      1,384.28      5.00    158.11    1.20\n"
      ]
     },
     "execution_count": 11,
     "metadata": {},
     "output_type": "execute_result"
    }
   ],
   "source": [
    "mesh = discretize.TensorMesh([(np.r_[inv_thicknesses, inv_thicknesses[-1]])], origin=\"0\")\n",
    "mesh"
   ]
  },
  {
   "cell_type": "code",
   "execution_count": 12,
   "id": "354b59de-611d-4d66-b8cc-aafe73ca5140",
   "metadata": {},
   "outputs": [],
   "source": [
    "sim1d = tdem.Simulation1DLayered(\n",
    "    survey=survey, thicknesses=inv_thicknesses, sigmaMap=maps.ExpMap(mesh)\n",
    ")"
   ]
  },
  {
   "cell_type": "code",
   "execution_count": 13,
   "id": "664969af-c5cf-4886-b548-9ed84e29e52a",
   "metadata": {},
   "outputs": [],
   "source": [
    "dmis = data_misfit.L2DataMisfit(simulation=sim1d, data=data_invert)\n",
    "reg = regularization.WeightedLeastSquares(\n",
    "    mesh,\n",
    "    reference_model=np.log(1./rho_back),\n",
    ")\n",
    "\n",
    "opt = optimization.InexactGaussNewton(maxIter=30)\n",
    "inv_prob = inverse_problem.BaseInvProblem(dmis, reg, opt)\n",
    "\n",
    "# Defining a starting value for the trade-off parameter (beta) between the data\n",
    "# misfit and the regularization.\n",
    "starting_beta = directives.BetaEstimate_ByEig(beta0_ratio=1e1)\n",
    "\n",
    "# Beta cooling schedule \n",
    "beta_cooling = directives.BetaSchedule(coolingFactor=2, coolingRate=2)\n",
    "\n",
    "# Options for outputting recovered models and predicted data for each beta.\n",
    "save_iteration = directives.SaveOutputEveryIteration(save_txt=False)\n",
    "\n",
    "# target misfit -- stop the inversion when we have fit the data \n",
    "target_misfit = directives.TargetMisfit()\n",
    "\n",
    "# The directives are defined as a list.\n",
    "directives_list = [\n",
    "    starting_beta,\n",
    "    beta_cooling, \n",
    "    save_iteration,\n",
    "    target_misfit, \n",
    "]\n",
    "\n",
    "# Here we combine the inverse problem and the set of directives\n",
    "inv = inversion.BaseInversion(inv_prob, directives_list)"
   ]
  },
  {
   "cell_type": "code",
   "execution_count": 14,
   "id": "0d4e3831-76f9-467a-a768-e4b19f33dbbc",
   "metadata": {
    "tags": []
   },
   "outputs": [
    {
     "name": "stdout",
     "output_type": "stream",
     "text": [
      "\n",
      "                        SimPEG.InvProblem is setting bfgsH0 to the inverse of the eval2Deriv.\n",
      "                        ***Done using same Solver, and solver_opts as the Simulation1DLayered problem***\n",
      "                        \n",
      "model has any nan: 0\n",
      "============================ Inexact Gauss Newton ============================\n",
      "  #     beta     phi_d     phi_m       f      |proj(x-g)-x|  LS    Comment   \n",
      "-----------------------------------------------------------------------------\n",
      "x0 has any nan: 0\n",
      "   0  5.12e+00  1.39e+03  0.00e+00  1.39e+03    3.20e+02      0              \n",
      "   1  5.12e+00  4.09e+02  4.39e+01  6.34e+02    8.29e+01      0              \n",
      "   2  2.56e+00  2.05e+02  6.60e+01  3.74e+02    8.83e+01      0              \n",
      "   3  2.56e+00  4.64e+01  9.80e+01  2.97e+02    3.07e+01      0              \n",
      "   4  1.28e+00  3.09e+01  9.81e+01  1.56e+02    3.35e+01      0              \n",
      "   5  1.28e+00  1.08e+01  1.06e+02  1.47e+02    4.35e+01      0              \n",
      "   6  6.40e-01  1.06e+01  1.02e+02  7.58e+01    2.49e+01      0              \n",
      "------------------------- STOP! -------------------------\n",
      "1 : |fc-fOld| = 0.0000e+00 <= tolF*(1+|f0|) = 1.3951e+02\n",
      "1 : |xc-x_last| = 6.8822e-01 <= tolX*(1+|x0|) = 4.2447e+00\n",
      "0 : |proj(x-g)-x|    = 2.4860e+01 <= tolG          = 1.0000e-01\n",
      "0 : |proj(x-g)-x|    = 2.4860e+01 <= 1e3*eps       = 1.0000e-02\n",
      "0 : maxIter   =      30    <= iter          =      7\n",
      "------------------------- DONE! -------------------------\n"
     ]
    }
   ],
   "source": [
    "starting_model = np.log(1./rho_back)*np.ones(mesh.n_cells)\n",
    "\n",
    "recovered_model = inv.run(starting_model)"
   ]
  },
  {
   "cell_type": "code",
   "execution_count": 15,
   "id": "429e895c-fa08-4834-b1be-e2aa3f3eb113",
   "metadata": {},
   "outputs": [
    {
     "data": {
      "text/plain": [
       "Text(0, 0.5, 'B (nT)')"
      ]
     },
     "execution_count": 15,
     "metadata": {},
     "output_type": "execute_result"
    },
    {
     "data": {
      "image/png": "[encoded data removed]",
      "text/plain": [
       "<Figure size 400x300 with 1 Axes>"
      ]
     },
     "metadata": {},
     "output_type": "display_data"
    }
   ],
   "source": [
    "fig, ax = plt.subplots(1, 1, figsize=(4, 3))\n",
    "\n",
    "ax.loglog(rx_times*1e3, dobs*1e9, \"ko\", label=\"dobs\", ms=4)\n",
    "ax.loglog(rx_times*1e3, sim1d.dpred(recovered_model)*1e9, label=\"dpred\")\n",
    "\n",
    "ax.legend()\n",
    "ax.grid(\"both\", alpha=0.7)\n",
    "ax.set_xlabel(\"time (ms)\")\n",
    "ax.set_ylabel(\"B (nT)\")"
   ]
  },
  {
   "cell_type": "code",
   "execution_count": 16,
   "id": "52a333a8-1373-4c5c-9191-cf65dd4063e6",
   "metadata": {},
   "outputs": [
    {
     "data": {
      "text/plain": [
       "Text(0.5, 0, 'conductivity (S/m)')"
      ]
     },
     "execution_count": 16,
     "metadata": {},
     "output_type": "execute_result"
    },
    {
     "data": {
      "image/png": "[encoded data removed]",
      "text/plain": [
       "<Figure size 300x500 with 1 Axes>"
      ]
     },
     "metadata": {},
     "output_type": "display_data"
    }
   ],
   "source": [
    "fig, ax = plt.subplots(1, 1, figsize=(3, 5))\n",
    "\n",
    "plot_1d_layer_model(sim1d_true.thicknesses, np.exp(m_true), ax=ax, color=\"k\", label=\"True\")\n",
    "plot_1d_layer_model(mesh.h[0], np.exp(recovered_model), ax=ax, label=\"recovered\")\n",
    "\n",
    "ax.set_ylim([450, 0])\n",
    "ax.set_xlim([1e-3, 2e-1])\n",
    "ax.grid(\"both\", alpha=0.7)\n",
    "ax.legend()\n",
    "\n",
    "ax.set_xlabel(\"conductivity (S/m)\")"
   ]
  },
  {
   "cell_type": "code",
   "execution_count": null,
   "id": "9abe08b5-4df1-4903-9a39-c25627f36b73",
   "metadata": {},
   "outputs": [],
   "source": []
  },
  {
   "cell_type": "code",
   "execution_count": null,
   "id": "1cc247b3-efd4-42b3-b08d-6fa78d78bf5b",
   "metadata": {},
   "outputs": [],
   "source": []
  }
 ],
 "metadata": {
  "kernelspec": {
   "display_name": "Python 3 (ipykernel)",
   "language": "python",
   "name": "python3"
  },
  "language_info": {
   "codemirror_mode": {
    "name": "ipython",
    "version": 3
   },
   "file_extension": ".py",
   "mimetype": "text/x-python",
   "name": "python",
   "nbconvert_exporter": "python",
   "pygments_lexer": "ipython3",
   "version": "3.10.8"
  }
 },
 "nbformat": 4,
 "nbformat_minor": 5
}
